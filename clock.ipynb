{
 "cells": [
  {
   "cell_type": "code",
   "execution_count": null,
   "metadata": {},
   "outputs": [],
   "source": [
    "#Creating a digital clock using tkinter"
   ]
  },
  {
   "cell_type": "code",
   "execution_count": 1,
   "metadata": {},
   "outputs": [],
   "source": [
    "import sys\n",
    "from  tkinter import *\n",
    "import time \n",
    "\n",
    "def times():\n",
    "\tcurrent_time=time.strftime(\"%H:%M:%S\") \n",
    "\tclock.config(text=current_time)\n",
    "\tclock.after(200,times)\n",
    "\n",
    "\n",
    "root=Tk()\n",
    "root.geometry(\"500x250\")\n",
    "clock=Label(root,font=(\"times\",50,\"bold\"),bg=\"white\")\n",
    "clock.grid(row=2,column=2,pady=25,padx=100)\n",
    "times()\n",
    "\n",
    "digi=Label(root,text=\"Digital clock\",font=\"times 24 bold\")\n",
    "digi.grid(row=0,column=2)\n",
    "\n",
    "nota=Label(root,text=\"hours   minutes   seconds   \",font=\"times 15 bold\")\n",
    "nota.grid(row=3,column=2)\n",
    "\n",
    "root.mainloop()"
   ]
  }
 ],
 "metadata": {
  "kernelspec": {
   "display_name": "Python 3",
   "language": "python",
   "name": "python3"
  },
  "language_info": {
   "codemirror_mode": {
    "name": "ipython",
    "version": 3
   },
   "file_extension": ".py",
   "mimetype": "text/x-python",
   "name": "python",
   "nbconvert_exporter": "python",
   "pygments_lexer": "ipython3",
   "version": "3.7.3"
  }
 },
 "nbformat": 4,
 "nbformat_minor": 2
}
