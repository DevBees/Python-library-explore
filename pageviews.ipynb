{
 "cells": [
  {
   "cell_type": "code",
   "execution_count": null,
   "metadata": {},
   "outputs": [],
   "source": [
    "from selenium import webdriver\n",
    "import time\n",
    "\n",
    "driver - webdriver.Chrome(executable_path = \"C:\\Program Files (x86)\\Google\\Chrome\\chromedriver.exe\")\n",
    "\n",
    "driver.get(\"https://www.google.com/\")\n",
    "\n",
    "refreshrate = int(10)\n",
    "\n",
    "while True:\n",
    "    time.sleep(refreshrate)\n",
    "    driver.refresh()"
   ]
  }
 ],
 "metadata": {
  "kernelspec": {
   "display_name": "Python 3",
   "language": "python",
   "name": "python3"
  },
  "language_info": {
   "codemirror_mode": {
    "name": "ipython",
    "version": 3
   },
   "file_extension": ".py",
   "mimetype": "text/x-python",
   "name": "python",
   "nbconvert_exporter": "python",
   "pygments_lexer": "ipython3",
   "version": "3.7.3"
  }
 },
 "nbformat": 4,
 "nbformat_minor": 2
}
