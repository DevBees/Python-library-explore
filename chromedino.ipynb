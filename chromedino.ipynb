{
 "cells": [
  {
   "cell_type": "code",
   "execution_count": null,
   "metadata": {},
   "outputs": [],
   "source": [
    "import pyautogui"
   ]
  },
  {
   "cell_type": "code",
   "execution_count": null,
   "metadata": {},
   "outputs": [],
   "source": [
    "from PIL import Image,ImageGrab"
   ]
  },
  {
   "cell_type": "code",
   "execution_count": null,
   "metadata": {},
   "outputs": [],
   "source": [
    "import time"
   ]
  },
  {
   "cell_type": "code",
   "execution_count": null,
   "metadata": {},
   "outputs": [],
   "source": [
    "def screenshot():\n",
    "    img= ImageGrab.grab().convert('L')\n",
    "    return img\n",
    "\n",
    "def press(key):\n",
    "    pyautogui.keyDown(key)\n",
    "    return\n",
    "\n",
    "def detect(data):\n",
    "    for i in range(485,525):\n",
    "        for j in range(220,260):\n",
    "            if data[i,j]<100:\n",
    "                press('up')\n",
    "                return \n",
    "            \n",
    "            \n",
    "press('up')\n",
    "time.sleep(2)\n",
    "while True:\n",
    "    img=screenshot()\n",
    "    data=img.load()\n",
    "    detect(data)"
   ]
  },
  {
   "cell_type": "code",
   "execution_count": null,
   "metadata": {},
   "outputs": [],
   "source": []
  }
 ],
 "metadata": {
  "kernelspec": {
   "display_name": "Python 3",
   "language": "python",
   "name": "python3"
  },
  "language_info": {
   "codemirror_mode": {
    "name": "ipython",
    "version": 3
   },
   "file_extension": ".py",
   "mimetype": "text/x-python",
   "name": "python",
   "nbconvert_exporter": "python",
   "pygments_lexer": "ipython3",
   "version": "3.7.3"
  }
 },
 "nbformat": 4,
 "nbformat_minor": 2
}
