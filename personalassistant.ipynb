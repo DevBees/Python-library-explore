{
 "cells": [
  {
   "cell_type": "code",
   "execution_count": 2,
   "metadata": {},
   "outputs": [],
   "source": [
    "import speech_recognition as sr\n",
    "import pyttsx3\n",
    "import wikipedia"
   ]
  },
  {
   "cell_type": "code",
   "execution_count": 12,
   "metadata": {},
   "outputs": [
    {
     "name": "stdout",
     "output_type": "stream",
     "text": [
      "Listening...\n",
      "Virat Kohli (pronunciation ; born 5 November 1988) is an Indian cricketer who currently captains the India national team. A right-handed top-order batsman, Kohli is regarded as one of the best batsmen in the world. He plays for Royal Challengers Bangalore in the Indian Premier League (IPL), and has been the team's captain since 2013.\n"
     ]
    }
   ],
   "source": [
    "def speak(string):\n",
    "    eng = pyttsx3.init()\n",
    "    eng.say(string)\n",
    "    eng.runAndWait()\n",
    "    \n",
    "def userInput():\n",
    "    r = sr.Recognizer()\n",
    "    with sr.Microphone() as source:\n",
    "        print(\"Listening...\")\n",
    "        audio = r.listen(source)\n",
    "        query = r.recognize_google(audio)\n",
    "    return query\n",
    "\n",
    "def out():\n",
    "    query = userInput().lower()\n",
    "    result = wikipedia.summary(query, sentences=3)\n",
    "    print(result)\n",
    "    speak(\"According to wikipediaa\")\n",
    "    speak(result)\n",
    "    \n",
    "speak(\"Hey there nitro here ask me anything\")\n",
    "out()"
   ]
  }
 ],
 "metadata": {
  "kernelspec": {
   "display_name": "Python 3",
   "language": "python",
   "name": "python3"
  },
  "language_info": {
   "codemirror_mode": {
    "name": "ipython",
    "version": 3
   },
   "file_extension": ".py",
   "mimetype": "text/x-python",
   "name": "python",
   "nbconvert_exporter": "python",
   "pygments_lexer": "ipython3",
   "version": "3.7.3"
  }
 },
 "nbformat": 4,
 "nbformat_minor": 2
}
