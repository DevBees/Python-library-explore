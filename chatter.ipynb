{
  "nbformat": 4,
  "nbformat_minor": 0,
  "metadata": {
    "colab": {
      "name": "chatter.ipynb",
      "provenance": []
    },
    "kernelspec": {
      "name": "python3",
      "display_name": "Python 3"
    }
  },
  "cells": [
    {
      "cell_type": "code",
      "metadata": {
        "id": "-zCwqgCf56iN",
        "colab_type": "code",
        "colab": {}
      },
      "source": [
        "from nltk.chat.util import Chat, reflections"
      ],
      "execution_count": 1,
      "outputs": []
    },
    {
      "cell_type": "code",
      "metadata": {
        "id": "cvMKrhoq6Ony",
        "colab_type": "code",
        "colab": {}
      },
      "source": [
        "pairs = [\n",
        "         ['my name is (.*)', ['hi %1']],\n",
        "         ['(hi|hello|hey|hola)',['hey there','hi there','hiya']],\n",
        "         ['(.*) is amazing',['%1 is pretty amazing']],\n",
        "]\n"
      ],
      "execution_count": null,
      "outputs": []
    },
    {
      "cell_type": "code",
      "metadata": {
        "id": "bstofPnK7UIt",
        "colab_type": "code",
        "colab": {
          "base_uri": "https://localhost:8080/",
          "height": 137
        },
        "outputId": "6acf656f-0d7d-4d46-c11c-49f691fb7f03"
      },
      "source": [
        "chat = Chat(pairs, reflections)\n",
        "chat.converse()"
      ],
      "execution_count": null,
      "outputs": [
        {
          "output_type": "stream",
          "text": [
            ">hey\n",
            "hiya\n",
            ">hola\n",
            "hey there\n",
            ">my name is govind\n",
            "hi govind\n"
          ],
          "name": "stdout"
        }
      ]
    }
  ]
}