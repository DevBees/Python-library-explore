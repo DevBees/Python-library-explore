{
 "cells": [
  {
   "cell_type": "code",
   "execution_count": 1,
   "metadata": {},
   "outputs": [],
   "source": [
    "import turtle\n",
    "\n",
    "root= turtle.Turtle()\n",
    "\n",
    "root.up()\n",
    "root.goto(0, -100)\n",
    "root.down()\n",
    "\n",
    "\n",
    "root.begin_fill()\n",
    "\n",
    "root.fillcolor(\"yellow\")\n",
    "\n",
    "root.circle(100)\n",
    "\n",
    "root.end_fill()\n",
    "\n",
    "root.up()\n",
    "root.goto(-67, -40)\n",
    "root.setheading(-60)\n",
    "root.width(5)\n",
    "root.down()\n",
    "root.circle(80, 120)\n",
    "root.goto(-67, -40)\n",
    "root.fillcolor(\"black\")\n",
    "\n",
    "for i in range(-35,105,70):\n",
    "    root.up()\n",
    "    root.goto(i,35)\n",
    "    root.setheading(0)\n",
    "    root.down()\n",
    "    root.begin_fill()\n",
    "    root.circle(20)\n",
    "    root.end_fill()\n",
    "        \n",
    "turtle.mainloop()\n"
   ]
  },
  {
   "cell_type": "code",
   "execution_count": null,
   "metadata": {},
   "outputs": [],
   "source": []
  }
 ],
 "metadata": {
  "kernelspec": {
   "display_name": "Python 3",
   "language": "python",
   "name": "python3"
  },
  "language_info": {
   "codemirror_mode": {
    "name": "ipython",
    "version": 3
   },
   "file_extension": ".py",
   "mimetype": "text/x-python",
   "name": "python",
   "nbconvert_exporter": "python",
   "pygments_lexer": "ipython3",
   "version": "3.7.3"
  }
 },
 "nbformat": 4,
 "nbformat_minor": 2
}
